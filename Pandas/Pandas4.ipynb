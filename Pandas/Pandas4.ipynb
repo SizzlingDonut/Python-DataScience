{
  "nbformat": 4,
  "nbformat_minor": 0,
  "metadata": {
    "colab": {
      "provenance": [],
      "authorship_tag": "ABX9TyMnlVIyhk/AIcvDSs4cX7aa",
      "include_colab_link": true
    },
    "kernelspec": {
      "name": "python3",
      "display_name": "Python 3"
    },
    "language_info": {
      "name": "python"
    }
  },
  "cells": [
    {
      "cell_type": "markdown",
      "metadata": {
        "id": "view-in-github",
        "colab_type": "text"
      },
      "source": [
        "<a href=\"https://colab.research.google.com/github/SizzlingDonut/Python-DataScience/blob/main/Pandas/Pandas4.ipynb\" target=\"_parent\"><img src=\"https://colab.research.google.com/assets/colab-badge.svg\" alt=\"Open In Colab\"/></a>"
      ]
    },
    {
      "cell_type": "code",
      "execution_count": null,
      "metadata": {
        "id": "jQ-Ek-E0KfEU"
      },
      "outputs": [],
      "source": [
        "import pandas as pd"
      ]
    },
    {
      "cell_type": "code",
      "source": [
        "df = pd.read_csv(\"/content/pokemon.csv\", index_col = \"Name\")\n",
        "\n",
        "pokemon = input(\"Enter a pokemon's name: \")\n",
        "\n",
        "try:\n",
        "  print(df.loc[pokemon])\n",
        "except:\n",
        "  print(f\"{pokemon} not found\")"
      ],
      "metadata": {
        "colab": {
          "base_uri": "https://localhost:8080/"
        },
        "id": "ZmmWUSyzlTFX",
        "outputId": "22fb98d0-c306-45da-e37a-81bd8f6ea753"
      },
      "execution_count": 25,
      "outputs": [
        {
          "output_type": "stream",
          "name": "stdout",
          "text": [
            "Enter a pokemon's name: Dugtrio\n",
            "No               51\n",
            "Type1        Ground\n",
            "Type2           NaN\n",
            "Height          0.7\n",
            "Weight         33.3\n",
            "Legendary         0\n",
            "Name: Dugtrio, dtype: object\n"
          ]
        }
      ]
    }
  ]
}