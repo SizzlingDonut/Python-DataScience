{
  "nbformat": 4,
  "nbformat_minor": 0,
  "metadata": {
    "colab": {
      "provenance": [],
      "authorship_tag": "ABX9TyOhT+v62zZ16aKRNYc7bbBG",
      "include_colab_link": true
    },
    "kernelspec": {
      "name": "python3",
      "display_name": "Python 3"
    },
    "language_info": {
      "name": "python"
    }
  },
  "cells": [
    {
      "cell_type": "markdown",
      "metadata": {
        "id": "view-in-github",
        "colab_type": "text"
      },
      "source": [
        "<a href=\"https://colab.research.google.com/github/SizzlingDonut/Python-DataScience/blob/main/Pandas/Pandas5.ipynb\" target=\"_parent\"><img src=\"https://colab.research.google.com/assets/colab-badge.svg\" alt=\"Open In Colab\"/></a>"
      ]
    },
    {
      "cell_type": "code",
      "execution_count": null,
      "metadata": {
        "id": "jQ-Ek-E0KfEU"
      },
      "outputs": [],
      "source": [
        "import pandas as pd"
      ]
    },
    {
      "cell_type": "code",
      "source": [
        "df = pd.read_csv(\"/content/pokemon.csv\", index_col = \"Name\")\n",
        "\n",
        "#FILTERING\n",
        "\n",
        "#tall_pokemon = df[df[\"Height\"] >= 2]\n",
        "#heavy_pokemon = df[df[\"Weight\"] > 100]\n",
        "#legendary_pokemon = df[df[\"Legendary\"] == 1]\n",
        "#water_pokemon = df[(df[\"Type1\"] == \"Water\") |\n",
        "#                   (df[\"Type2\"] == \"Water\")]\n",
        "ff_pokemon = df[(df[\"Type1\"] == \"Fire\") &\n",
        "                (df[\"Type2\"] == \"Flying\")]\n",
        "\n",
        "print(ff_pokemon)"
      ],
      "metadata": {
        "colab": {
          "base_uri": "https://localhost:8080/"
        },
        "id": "ZmmWUSyzlTFX",
        "outputId": "e106e670-19c8-43a5-a3b9-a52ada2f34e9"
      },
      "execution_count": 40,
      "outputs": [
        {
          "output_type": "stream",
          "name": "stdout",
          "text": [
            "            No Type1   Type2  Height  Weight  Legendary\n",
            "Name                                                   \n",
            "Charizard    6  Fire  Flying     1.7    90.5          0\n",
            "Moltres    146  Fire  Flying     2.0    60.0          1\n"
          ]
        }
      ]
    }
  ]
}