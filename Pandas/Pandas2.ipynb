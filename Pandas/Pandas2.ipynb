{
  "nbformat": 4,
  "nbformat_minor": 0,
  "metadata": {
    "colab": {
      "provenance": [],
      "authorship_tag": "ABX9TyMGBUOXFuK0ZJcMyJ3hJOVj",
      "include_colab_link": true
    },
    "kernelspec": {
      "name": "python3",
      "display_name": "Python 3"
    },
    "language_info": {
      "name": "python"
    }
  },
  "cells": [
    {
      "cell_type": "markdown",
      "metadata": {
        "id": "view-in-github",
        "colab_type": "text"
      },
      "source": [
        "<a href=\"https://colab.research.google.com/github/SizzlingDonut/Python-DataScience/blob/main/Pandas/Pandas2.ipynb\" target=\"_parent\"><img src=\"https://colab.research.google.com/assets/colab-badge.svg\" alt=\"Open In Colab\"/></a>"
      ]
    },
    {
      "cell_type": "code",
      "execution_count": 5,
      "metadata": {
        "colab": {
          "base_uri": "https://localhost:8080/"
        },
        "id": "jQ-Ek-E0KfEU",
        "outputId": "6c98bde0-5f09-4689-b7fc-1242994cc900"
      },
      "outputs": [
        {
          "output_type": "stream",
          "name": "stdout",
          "text": [
            "                 Name  Age       Job\n",
            "Employee 1  Spongebob   30      Cook\n",
            "Employee 2    Patrick   35       N/A\n",
            "Employee 3  Squidward   50   Cashier\n",
            "Employee4       Sandy   28  Engineer\n"
          ]
        }
      ],
      "source": [
        "import pandas as pd\n",
        "\n",
        "data = {\n",
        "        \"Name\": [\"Spongebob\", \"Patrick\", \"Squidward\"],\n",
        "        \"Age\": [30, 35, 50]\n",
        "}\n",
        "\n",
        "df = pd.DataFrame(data, index = [\"Employee 1\", \"Employee 2\", \"Employee 3\"])\n",
        "\n",
        "#Add a new column\n",
        "df[\"Job\"] = [\"Cook\", \"N/A\", \"Cashier\"]\n",
        "\n",
        "#Add a new row\n",
        "new_row = pd.DataFrame([{\"Name\": \"Sandy\", \"Age\": 28, \"Job\": \"Engineer\"}], index = [\"Employee4\"])\n",
        "df = pd.concat([df, new_row])\n",
        "\n",
        "print(df)"
      ]
    }
  ]
}