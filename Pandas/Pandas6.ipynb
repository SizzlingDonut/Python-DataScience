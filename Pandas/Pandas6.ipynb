{
  "nbformat": 4,
  "nbformat_minor": 0,
  "metadata": {
    "colab": {
      "provenance": [],
      "authorship_tag": "ABX9TyM6a16RAkwL5SE2v4pf4ocd",
      "include_colab_link": true
    },
    "kernelspec": {
      "name": "python3",
      "display_name": "Python 3"
    },
    "language_info": {
      "name": "python"
    }
  },
  "cells": [
    {
      "cell_type": "markdown",
      "metadata": {
        "id": "view-in-github",
        "colab_type": "text"
      },
      "source": [
        "<a href=\"https://colab.research.google.com/github/SizzlingDonut/Python-DataScience/blob/main/Pandas/Pandas6.ipynb\" target=\"_parent\"><img src=\"https://colab.research.google.com/assets/colab-badge.svg\" alt=\"Open In Colab\"/></a>"
      ]
    },
    {
      "cell_type": "code",
      "execution_count": null,
      "metadata": {
        "id": "jQ-Ek-E0KfEU"
      },
      "outputs": [],
      "source": [
        "import pandas as pd"
      ]
    },
    {
      "cell_type": "code",
      "source": [
        "df = pd.read_csv(\"/content/pokemon.csv\", index_col = \"Name\")\n",
        "\n",
        "# Whole DataFrame Aggregate Functions\n",
        "# print(df.mean(numeric_only = True))\n",
        "# print(df.sum(numeric_only = True))\n",
        "# print(df.min(numeric_only = True))\n",
        "# print(df.max(numeric_only = True))\n",
        "# print(df.count())\n",
        "\n",
        "# Single Column Aggregate Functions\n",
        "# print(df[\"Height\"].mean())\n",
        "# print(df[\"Height\"].sum())\n",
        "# print(df[\"Height\"].min())\n",
        "# print(df[\"Height\"].max())\n",
        "# print(df[\"Height\"].count())\n",
        "\n",
        "# groupby()\n",
        "group = df.groupby(\"Type1\")\n",
        "\n",
        "# print(group[\"Height\"].mean())\n",
        "# print(group[\"Height\"].sum())\n",
        "# print(group[\"Height\"].min())\n",
        "# print(group[\"Height\"].max())\n",
        "print(group[\"Height\"].count())"
      ],
      "metadata": {
        "colab": {
          "base_uri": "https://localhost:8080/"
        },
        "id": "ZmmWUSyzlTFX",
        "outputId": "b2e5e6b3-f265-4060-a318-5deb37016d75"
      },
      "execution_count": 65,
      "outputs": [
        {
          "output_type": "stream",
          "name": "stdout",
          "text": [
            "Type1\n",
            "Bug         12\n",
            "Dragon       3\n",
            "Electric     9\n",
            "Fairy        2\n",
            "Fighting     7\n",
            "Fire        12\n",
            "Ghost        3\n",
            "Grass       12\n",
            "Ground       8\n",
            "Ice          2\n",
            "Normal      22\n",
            "Poison      14\n",
            "Psychic      7\n",
            "Rock         9\n",
            "Water       28\n",
            "Name: Height, dtype: int64\n"
          ]
        }
      ]
    }
  ]
}