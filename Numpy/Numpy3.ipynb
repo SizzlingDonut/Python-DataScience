{
  "nbformat": 4,
  "nbformat_minor": 0,
  "metadata": {
    "colab": {
      "provenance": [],
      "authorship_tag": "ABX9TyP3GsihApYo4Va21jHyONOw",
      "include_colab_link": true
    },
    "kernelspec": {
      "name": "python3",
      "display_name": "Python 3"
    },
    "language_info": {
      "name": "python"
    }
  },
  "cells": [
    {
      "cell_type": "markdown",
      "metadata": {
        "id": "view-in-github",
        "colab_type": "text"
      },
      "source": [
        "<a href=\"https://colab.research.google.com/github/SizzlingDonut/Python-DataScience/blob/main/Numpy/Numpy3.ipynb\" target=\"_parent\"><img src=\"https://colab.research.google.com/assets/colab-badge.svg\" alt=\"Open In Colab\"/></a>"
      ]
    },
    {
      "cell_type": "code",
      "execution_count": 1,
      "metadata": {
        "colab": {
          "base_uri": "https://localhost:8080/"
        },
        "id": "oqLGDzqR_gnv",
        "outputId": "aff424ac-8750-4cec-9e3c-0a0a70e79957"
      },
      "outputs": [
        {
          "output_type": "stream",
          "name": "stdout",
          "text": [
            "[ 91   0 100  73  82  64]\n"
          ]
        }
      ],
      "source": [
        "import numpy as np\n",
        "\n",
        "scores = np.array([91, 55, 100, 73, 82, 64])\n",
        "\n",
        "scores[scores < 60] = 0\n",
        "\n",
        "print(scores)"
      ]
    }
  ]
}