{
  "nbformat": 4,
  "nbformat_minor": 0,
  "metadata": {
    "colab": {
      "provenance": [],
      "authorship_tag": "ABX9TyOiJwRvOOSbD+P+K/spoJ9m",
      "include_colab_link": true
    },
    "kernelspec": {
      "name": "python3",
      "display_name": "Python 3"
    },
    "language_info": {
      "name": "python"
    }
  },
  "cells": [
    {
      "cell_type": "markdown",
      "metadata": {
        "id": "view-in-github",
        "colab_type": "text"
      },
      "source": [
        "<a href=\"https://colab.research.google.com/github/SizzlingDonut/Python-DataScience/blob/main/Numpy/Numpy7.ipynb\" target=\"_parent\"><img src=\"https://colab.research.google.com/assets/colab-badge.svg\" alt=\"Open In Colab\"/></a>"
      ]
    },
    {
      "cell_type": "code",
      "execution_count": 5,
      "metadata": {
        "colab": {
          "base_uri": "https://localhost:8080/"
        },
        "id": "prJwS32bBAlK",
        "outputId": "7161ff92-df53-41db-f58a-1bbef6d9caaa"
      },
      "outputs": [
        {
          "output_type": "stream",
          "name": "stdout",
          "text": [
            "[[['🍌' '🍌' '🍌']\n",
            "  ['🍊' '🍌' '🥥']\n",
            "  ['🍎' '🍊' '🥥']]\n",
            "\n",
            " [['🍊' '🍊' '🍎']\n",
            "  ['🍊' '🍊' '🍌']\n",
            "  ['🍎' '🍊' '🍎']]\n",
            "\n",
            " [['🍎' '🍍' '🍍']\n",
            "  ['🍌' '🍊' '🍎']\n",
            "  ['🍊' '🍊' '🍎']]]\n"
          ]
        }
      ],
      "source": [
        "import numpy as np\n",
        "\n",
        "rng = np.random.default_rng()\n",
        "\n",
        "fruits = np.array([\"🍎\", \"🍊\", \"🍌\", \"🥥\", \"🍍\"])\n",
        "fruits = rng.choice(fruits, size = (3,3,3))\n",
        "\n",
        "print(fruits)"
      ]
    }
  ]
}