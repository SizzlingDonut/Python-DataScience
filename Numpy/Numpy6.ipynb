{
  "nbformat": 4,
  "nbformat_minor": 0,
  "metadata": {
    "colab": {
      "provenance": [],
      "authorship_tag": "ABX9TyNTCORh1qQj9SjLmQJX3Go2",
      "include_colab_link": true
    },
    "kernelspec": {
      "name": "python3",
      "display_name": "Python 3"
    },
    "language_info": {
      "name": "python"
    }
  },
  "cells": [
    {
      "cell_type": "markdown",
      "metadata": {
        "id": "view-in-github",
        "colab_type": "text"
      },
      "source": [
        "<a href=\"https://colab.research.google.com/github/SizzlingDonut/Python-DataScience/blob/main/Numpy/Numpy6.ipynb\" target=\"_parent\"><img src=\"https://colab.research.google.com/assets/colab-badge.svg\" alt=\"Open In Colab\"/></a>"
      ]
    },
    {
      "cell_type": "code",
      "execution_count": 4,
      "metadata": {
        "colab": {
          "base_uri": "https://localhost:8080/"
        },
        "id": "prJwS32bBAlK",
        "outputId": "cb544c67-6309-44e4-8e51-a889145080c8"
      },
      "outputs": [
        {
          "output_type": "stream",
          "name": "stdout",
          "text": [
            "[[21  0 19 20  0 30 18 65]\n",
            " [39 22  0 99 18 19 20 21]]\n"
          ]
        }
      ],
      "source": [
        "import numpy as np\n",
        "\n",
        "ages = np.array([[21, 17, 19, 20, 16, 30, 18, 65],\n",
        "                 [39, 22, 15, 99, 18, 19, 20 ,21]])\n",
        "\n",
        "adults = np.where(ages>=18, ages, 0)\n",
        "\n",
        "print(adults)"
      ]
    }
  ]
}