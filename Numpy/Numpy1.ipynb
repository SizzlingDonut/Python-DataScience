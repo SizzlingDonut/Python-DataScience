{
  "nbformat": 4,
  "nbformat_minor": 0,
  "metadata": {
    "colab": {
      "provenance": [],
      "authorship_tag": "ABX9TyNUTGF9Tls8bNjPjn866bYa",
      "include_colab_link": true
    },
    "kernelspec": {
      "name": "python3",
      "display_name": "Python 3"
    },
    "language_info": {
      "name": "python"
    }
  },
  "cells": [
    {
      "cell_type": "markdown",
      "metadata": {
        "id": "view-in-github",
        "colab_type": "text"
      },
      "source": [
        "<a href=\"https://colab.research.google.com/github/SizzlingDonut/Python-DataScience/blob/main/Numpy/Numpy1.ipynb\" target=\"_parent\"><img src=\"https://colab.research.google.com/assets/colab-badge.svg\" alt=\"Open In Colab\"/></a>"
      ]
    },
    {
      "cell_type": "code",
      "source": [
        "import numpy as np\n",
        "\n",
        "array = np.array([[['A', 'B', 'C'], ['D', 'E', 'F'], ['G', 'H', 'I']],\n",
        "                  [['J', 'K', 'L'], ['M', 'N', 'O'], ['P', 'Q', 'R']],\n",
        "                  [['S', 'T', 'U'], ['V', 'W', 'X'], ['Y', 'Z', ' ']]])\n",
        "\n",
        "word = array[0,0,0] + array[2,0,0] + array[2,0,0]\n",
        "\n",
        "print(word)"
      ],
      "metadata": {
        "colab": {
          "base_uri": "https://localhost:8080/"
        },
        "id": "8Omh3uaubaCe",
        "outputId": "4930e923-620b-434b-fe2b-044072f95797"
      },
      "execution_count": 83,
      "outputs": [
        {
          "output_type": "stream",
          "name": "stdout",
          "text": [
            "ASS\n"
          ]
        }
      ]
    }
  ]
}